{
 "cells": [
  {
   "cell_type": "markdown",
   "metadata": {},
   "source": [
    "# Tomada de decisão\n",
    "## Operações relacionais\n",
    "### Operador de igualdade ( == )"
   ]
  },
  {
   "cell_type": "code",
   "execution_count": null,
   "metadata": {},
   "outputs": [
    {
     "name": "stdout",
     "output_type": "stream",
     "text": [
      "False\n",
      "True\n",
      "True\n"
     ]
    }
   ],
   "source": [
    "print( 1 == 2)\n",
    "print( 1 == 1)\n",
    "print( 1 == 1.0)\n",
    "print( 2 == 0b10 ) # binary 2"
   ]
  },
  {
   "cell_type": "markdown",
   "metadata": {},
   "source": [
    "### Operador de desigualdade ( != )"
   ]
  },
  {
   "cell_type": "code",
   "execution_count": 2,
   "metadata": {},
   "outputs": [
    {
     "name": "stdout",
     "output_type": "stream",
     "text": [
      "True\n",
      "False\n",
      "False\n",
      "False\n"
     ]
    }
   ],
   "source": [
    "print( 1 != 2)\n",
    "print( 1 != 1)\n",
    "print( 1 != 1.0)\n",
    "print( 2 != 0b10 ) # binary 2"
   ]
  },
  {
   "cell_type": "markdown",
   "metadata": {},
   "source": [
    "### Operador maior que ( > ) e maior igual a ( >= )"
   ]
  },
  {
   "cell_type": "code",
   "execution_count": 3,
   "metadata": {},
   "outputs": [
    {
     "name": "stdout",
     "output_type": "stream",
     "text": [
      "False\n",
      "True\n",
      "True\n",
      "True\n"
     ]
    }
   ],
   "source": [
    "print( 1 > 2)\n",
    "print( 2 > 1)\n",
    "print( 2 >= 1)\n",
    "print( 2 >= 0b10 ) # binary 2"
   ]
  },
  {
   "cell_type": "markdown",
   "metadata": {},
   "source": [
    "### Operador menor que ( < ) e menor igual a ( <= )"
   ]
  },
  {
   "cell_type": "code",
   "execution_count": 4,
   "metadata": {},
   "outputs": [
    {
     "name": "stdout",
     "output_type": "stream",
     "text": [
      "True\n",
      "False\n",
      "False\n",
      "True\n"
     ]
    }
   ],
   "source": [
    "print( 1 < 2)\n",
    "print( 2 < 1)\n",
    "print( 2 <= 1)\n",
    "print( 2 <= 0b10 ) # binary 2"
   ]
  },
  {
   "cell_type": "markdown",
   "metadata": {},
   "source": [
    "#### Atualizando a lista de prioridades de operadores\n",
    "| Seq | Operador | Descrição | \n",
    "| - |:-:| - |\n",
    "| 1 | ** | Exponenciação |\n",
    "| 2 | +,- | Unários Sinal |\n",
    "| 3 | *,/,//,% | Multiplicação, divisões e resto |\n",
    "| 4 | +,- | Soma e subtração |\n",
    "| 5 | >, >=, <, <= | Maior, maior igual, menor, menor igual |\n",
    "| 6 | ==, != | Igualdade e diferença |"
   ]
  },
  {
   "cell_type": "markdown",
   "metadata": {},
   "source": [
    "### Operador if ( Se )\n",
    "sintaxe:\n",
    "if condicao_verdade:\n",
    "    comando_a_ser_executado1()\n",
    "    comando_a_ser_executado2()\n",
    "    if camando2:\n",
    "        comando_03()"
   ]
  },
  {
   "cell_type": "code",
   "execution_count": 6,
   "metadata": {},
   "outputs": [
    {
     "name": "stdout",
     "output_type": "stream",
     "text": [
      "fim do programa\n"
     ]
    }
   ],
   "source": [
    "idade = int(input(\"Digite sua idade: \"))\n",
    "if idade >= 18:\n",
    "    print(\"Você é maior de idade\")\n",
    "    print(\"Você pode dirigir, se habilitado!\")\n",
    "print(\"fim do programa\")"
   ]
  },
  {
   "cell_type": "markdown",
   "metadata": {},
   "source": [
    "### Instrução else"
   ]
  },
  {
   "cell_type": "code",
   "execution_count": null,
   "metadata": {},
   "outputs": [],
   "source": [
    "idade = int(input(\"Digite sua idade: \"))\n",
    "if idade >= 18:\n",
    "    print(\"Você é maior de idade\")\n",
    "    print(\"Você pode dirigir, se habilitado!\")\n",
    "else:\n",
    "    print(\"Você é menor de idade\")\n",
    "    print(\"Você não pode dirigir!\")\n",
    "print(\"fim do programa\")"
   ]
  },
  {
   "cell_type": "markdown",
   "metadata": {},
   "source": [
    "### If encadeado"
   ]
  },
  {
   "cell_type": "code",
   "execution_count": null,
   "metadata": {},
   "outputs": [],
   "source": [
    "idade = int(input(\"Digite sua idade: \"))\n",
    "if idade >= 18:\n",
    "    print(\"Você é maior de idade\")\n",
    "    print(\"Você pode dirigir, se habilitado!\")\n",
    "    if idade >= 70:\n",
    "        print(\"Você deve fazer exames médicos anuais\")\n",
    "    else:\n",
    "        if idade >= 65:\n",
    "            print(\"Você deve fazer exames médicos a cada 2 anos\") \n",
    "else:\n",
    "    print(\"Você é menor de idade\")\n",
    "    print(\"Você não pode dirigir!\")\n",
    "print(\"fim do programa\")"
   ]
  },
  {
   "cell_type": "markdown",
   "metadata": {},
   "source": [
    "### instrução elif"
   ]
  },
  {
   "cell_type": "code",
   "execution_count": null,
   "metadata": {},
   "outputs": [],
   "source": [
    "idade = int(input(\"Digite sua idade: \"))\n",
    "if idade >= 70:\n",
    "    print(\"Você é maior de idade\")\n",
    "    print(\"Você pode dirigir, se habilitado!\")    \n",
    "    print(\"Você deve fazer exames médicos anuais\")\n",
    "elif idade >= 65:\n",
    "    print(\"Você é maior de idade\")\n",
    "    print(\"Você pode dirigir, se habilitado!\")\n",
    "    print(\"Você deve fazer exames médicos a cada 2 anos\")\n",
    "elif idade >= 18:\n",
    "    print(\"Você é maior de idade\")\n",
    "    print(\"Você pode dirigir, se habilitado!\")\n",
    "else:\n",
    "    print(\"Você é menor de idade\")"
   ]
  },
  {
   "cell_type": "code",
   "execution_count": 7,
   "metadata": {},
   "outputs": [
    {
     "name": "stdout",
     "output_type": "stream",
     "text": [
      "O maior número é: 6\n"
     ]
    }
   ],
   "source": [
    "# Obtendo o maior número entre dois números\n",
    "num1 = int(input(\"Digite o primeiro número: \"))\n",
    "num2 = int(input(\"Digite o segundo número: \"))\n",
    "maior = num1\n",
    "if num2 > maior:\n",
    "    maior = num2\n",
    "print(\"O maior número é:\", maior)"
   ]
  },
  {
   "cell_type": "code",
   "execution_count": null,
   "metadata": {},
   "outputs": [],
   "source": [
    "# Obtendo o maior número entre três números\n",
    "num1 = int(input(\"Digite o primeiro número: \"))\n",
    "num2 = int(input(\"Digite o segundo número: \"))\n",
    "num3 = int(input(\"Digite o terceiro número: \"))\n",
    "maior = num1\n",
    "if num2 > maior:\n",
    "    maior = num2\n",
    "if num3 > maior:\n",
    "    maior = num3\n",
    "print(\"O maior número é:\", maior)"
   ]
  },
  {
   "cell_type": "code",
   "execution_count": 1,
   "metadata": {},
   "outputs": [
    {
     "name": "stdout",
     "output_type": "stream",
     "text": [
      "richard é maior que ou igual a  Richard\n"
     ]
    }
   ],
   "source": [
    "# Uso do if com strings\n",
    "nome = input(\"Digite seu nome: \")\n",
    "nome2 = input(\"Digite outro nome: \")\n",
    "if nome > nome2:\n",
    "    print(nome, \"é maior que\", nome2)\n",
    "else:\n",
    "    print(nome2, \"é maior que ou igual a \", nome)"
   ]
  },
  {
   "cell_type": "code",
   "execution_count": null,
   "metadata": {},
   "outputs": [],
   "source": [
    "# Lab 3.1.10\n",
    "flor = input(\"Digite o nome de uma flor: \")\n",
    "if flor == \"spathiphyllum\":\n",
    "    print(\"No, I want a big Spathiphyllum!\")\n",
    "elif flor == \"Spathiphyllum\":\n",
    "    print(\"Yes - Spathiphyllum is the best plant ever!\")\n",
    "else:\n",
    "    print(\"Spathiphyllum! Not \" + flor+ \"!\")"
   ]
  },
  {
   "cell_type": "code",
   "execution_count": null,
   "metadata": {},
   "outputs": [],
   "source": [
    "# Lab 3.1.11\n",
    "# se a renda do cidadão não era superior a 85.528 talões, \n",
    "#  o imposto era igual a 18% da renda, menos 556 taller e 2 centavos \n",
    "#  (isso era o que eles chamavam de isenção de imposto)\n",
    "#se a receita fosse superior a esse valor, o imposto seria \n",
    "#  igual a 14.839 talões e 2 centavos, mais 32% do excedente \n",
    "# em mais de 85.528 taller.\n",
    "income = float(input(\"Entre com os rendimentos anuais \"))\n",
    "\n",
    "if income < 85528:\n",
    "    tax = income * 0.18 - 556.02\n",
    "else:\n",
    "    tax = 14839.02 + (income - 85528) * 0.32\n",
    "\n",
    "if tax < 0:\n",
    "    tax = 0\n",
    "    \n",
    "tax = round(tax, 0)\n",
    "print(\"A taxa é:\", tax, \"thalers\") "
   ]
  },
  {
   "cell_type": "code",
   "execution_count": null,
   "metadata": {},
   "outputs": [],
   "source": [
    "# Lab 3.1.12\n",
    "\"\"\"\n",
    "Como você certamente sabe, devido a algumas razões astronômicas, os anos podem ser \n",
    "bissextos ou comuns. Os primeiros têm 366 dias, enquanto os segundos têm 365 dias.\n",
    "\n",
    "Desde a introdução do calendário gregoriano (em 1582), a regra a seguir é usada \n",
    "para determinar o tipo de ano:\n",
    "\n",
    " - se o número do ano não é divisível por quatro, é um ano comum;\n",
    " - caso contrário, se o número do ano não for divisível por 100, será um ano bissexto;\n",
    " - caso contrário, se o número do ano não for divisível por 400, é um ano comum ;\n",
    " - caso contrário, é um ano bissexto.\n",
    "\n",
    "\"\"\"\n",
    "year = int(input(\"Digite um ano: \"))\n",
    "\n",
    "if year < 1582:\n",
    "  print(\"Não dentro do período do calendário gregoriano\")\n",
    "else:\n",
    "    if year % 4 != 0:\n",
    "       print(\"Ano comum!\")\n",
    "    elif year % 100 != 0:\n",
    "       print(\"Ano bissexto!\")\n",
    "    elif year % 400 != 0:\n",
    "       print(\"Ano comum!\")\n",
    "    else:\n",
    "       print(\"Ano bissexto!\")"
   ]
  },
  {
   "cell_type": "code",
   "execution_count": null,
   "metadata": {},
   "outputs": [],
   "source": [
    "# Multipla atribuição...\n",
    "a, b, c = 1, 2, 3\n",
    "# valores de a = 5, b = 6, faça uma permuta de com as variáveis\n",
    "a = 5\n",
    "b = 6\n",
    "# Efetuando a troca\n",
    "apoio = a\n",
    "a = b\n",
    "b = apoio\n",
    "# efetuando a permuta no python\n",
    "a, b = b, a\n"
   ]
  }
 ],
 "metadata": {
  "kernelspec": {
   "display_name": ".venv",
   "language": "python",
   "name": "python3"
  },
  "language_info": {
   "codemirror_mode": {
    "name": "ipython",
    "version": 3
   },
   "file_extension": ".py",
   "mimetype": "text/x-python",
   "name": "python",
   "nbconvert_exporter": "python",
   "pygments_lexer": "ipython3",
   "version": "3.13.2"
  }
 },
 "nbformat": 4,
 "nbformat_minor": 2
}
