{
 "cells": [
  {
   "cell_type": "markdown",
   "metadata": {},
   "source": [
    "# 3.3 Lógica e Operadores bit-a-bit\n",
    "### Operadores lógicos and, or e not\n",
    "\n",
    "| A | B | A and B | A or B | not A |\n",
    "| - | - |:-:|:-:|:-:|\n",
    "| True | True | True | True | False |\n",
    "| True | False | False | True | False |\n",
    "| False | True | False | True | True |\n",
    "| False | False | False | False | True|"
   ]
  },
  {
   "cell_type": "code",
   "execution_count": null,
   "metadata": {},
   "outputs": [],
   "source": [
    "idade = 19\n",
    "if idade>=18 and idade<=60 :\n",
    "    print(\"Pode dirigir sem restrições, desde com carta.\")\n",
    "idade = 10\n",
    "while idade<18 or idade>60:\n",
    "    idade = int(input(\"Digite uma idade entre 18 e 60: \"))\n",
    "    if idade<18 or idade>60: print(\"Idade inválida!\")\n",
    "    if not(idade>=18 and idade<=60): print(\"Idade inválida!\")\n",
    "# Só vai sair do laço com uma idade entre 18 e 60\n"
   ]
  },
  {
   "cell_type": "code",
   "execution_count": 2,
   "metadata": {},
   "outputs": [
    {
     "name": "stdout",
     "output_type": "stream",
     "text": [
      "Idade inválida!\n"
     ]
    }
   ],
   "source": [
    "idade = int(input(\"Digite uma idade maior que zero: \"))\n",
    "if not idade:\n",
    "    print(\"Idade inválida!\")"
   ]
  },
  {
   "cell_type": "markdown",
   "metadata": {},
   "source": [
    "### Operadores bit-a-bit\n",
    "#### Operador de conjunção ( & ) ou and bit-a-bit\n",
    "\n",
    "2 & 3 = 2\n",
    "2 10 &  \n",
    "3 11\n",
    "----\n",
    "2 10 "
   ]
  },
  {
   "cell_type": "code",
   "execution_count": null,
   "metadata": {},
   "outputs": [
    {
     "name": "stdout",
     "output_type": "stream",
     "text": [
      "5 0101\n",
      "7 0111 &\n",
      "-------\n",
      "5 0101\n",
      "0b101\n"
     ]
    }
   ],
   "source": [
    "a = 5\n",
    "b = 7\n",
    "print(a,f\"teste {a:04b}\")\n",
    "print(b,f\"{b:04b}\",\"&\")\n",
    "print(\"-\"*7)\n",
    "print(a&b,f\"{(a&b):04b}\")\n",
    "print(bin(a))"
   ]
  },
  {
   "cell_type": "markdown",
   "metadata": {},
   "source": [
    "#### Operador de disjunção ( | ) ou or bit-a-bit\n",
    "5 0101\n",
    "7 0111 |\n",
    "------\n",
    "7 0111"
   ]
  },
  {
   "cell_type": "code",
   "execution_count": null,
   "metadata": {},
   "outputs": [],
   "source": [
    "a = 5\n",
    "b = 7\n",
    "print(a,f\"teste {a:04b}\")\n",
    "print(b,f\"{b:04b}\",\"&\")\n",
    "print(\"-\"*7)\n",
    "print(a|b,f\"{(a|b):04b}\")"
   ]
  },
  {
   "cell_type": "markdown",
   "metadata": {},
   "source": [
    "#### Operador xor ( ^ ) ou or exclusivo bit-a-bit\n",
    "5 0101\n",
    "7 0111 ^\n",
    "------\n",
    "2 0010"
   ]
  },
  {
   "cell_type": "code",
   "execution_count": 8,
   "metadata": {},
   "outputs": [
    {
     "name": "stdout",
     "output_type": "stream",
     "text": [
      "5 0101\n",
      "7 0111 &\n",
      "-------\n",
      "2 0010\n"
     ]
    }
   ],
   "source": [
    "a = 5\n",
    "b = 7\n",
    "print(a,f\"{a:04b}\")\n",
    "print(b,f\"{b:04b}\",\"&\")\n",
    "print(\"-\"*7)\n",
    "print(a^b,f\"{(a^b):04b}\")"
   ]
  },
  {
   "cell_type": "markdown",
   "metadata": {},
   "source": [
    "#### Complemento ( ~ ) \n",
    "~5 = -6"
   ]
  },
  {
   "cell_type": "code",
   "execution_count": 10,
   "metadata": {},
   "outputs": [
    {
     "name": "stdout",
     "output_type": "stream",
     "text": [
      "-6\n",
      "5\n"
     ]
    }
   ],
   "source": [
    "print(~5)\n",
    "print(~-6)"
   ]
  },
  {
   "cell_type": "markdown",
   "metadata": {},
   "source": [
    "#### Deslocamento de bit para esquerda ( << )\n",
    "1 << 2 resulta em 4 (100)"
   ]
  },
  {
   "cell_type": "code",
   "execution_count": 12,
   "metadata": {},
   "outputs": [
    {
     "name": "stdout",
     "output_type": "stream",
     "text": [
      "4 0100\n"
     ]
    }
   ],
   "source": [
    "print(1 << 2, f\"{(1<<2):04b}\")"
   ]
  },
  {
   "cell_type": "markdown",
   "metadata": {},
   "source": [
    "#### Deslocamento de bit para direita ( >> )\n",
    "5 >> 2 resulta em 1"
   ]
  },
  {
   "cell_type": "code",
   "execution_count": 13,
   "metadata": {},
   "outputs": [
    {
     "name": "stdout",
     "output_type": "stream",
     "text": [
      "1 0001\n"
     ]
    }
   ],
   "source": [
    "print(5 >> 2, f\"{(5 >> 2):04b}\")"
   ]
  },
  {
   "cell_type": "markdown",
   "metadata": {},
   "source": [
    "### Atualizando a tabela de precedência de operadores\n",
    "| Seq | Operador | Descrição |\n",
    "|:-:|:-:| - |\n",
    "| 1 | ** | Exponenciação |\n",
    "| 2 | -,+,~ | Operadores unários e complemento |\n",
    "| 3 | *,/,//,% | Multiplicação, Divisões e resto |\n",
    "| 4 | +,- | Soma e subtração |\n",
    "| 5 | <<, >> | Deslocamento de bits |\n",
    "| 6 | & | Conjunção |\n",
    "| 7 | \\| | Disjunção |\n",
    "| 8 | <,<=,>,>=,!=,== | Operadores Relacionais |\n",
    "| 9 | not | Operador de negação |\n",
    "| 10 | and | Operador and |\n",
    "| 11 | or | Operador or |\n",
    "| 12 | +=,-=,*=,... | Operadores atalho |"
   ]
  }
 ],
 "metadata": {
  "kernelspec": {
   "display_name": ".venv",
   "language": "python",
   "name": "python3"
  },
  "language_info": {
   "codemirror_mode": {
    "name": "ipython",
    "version": 3
   },
   "file_extension": ".py",
   "mimetype": "text/x-python",
   "name": "python",
   "nbconvert_exporter": "python",
   "pygments_lexer": "ipython3",
   "version": "3.13.2"
  }
 },
 "nbformat": 4,
 "nbformat_minor": 2
}
