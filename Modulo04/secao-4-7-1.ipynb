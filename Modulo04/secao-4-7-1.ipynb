{
 "cells": [
  {
   "cell_type": "markdown",
   "metadata": {},
   "source": [
    "# 4.7.1 - Exceções\n",
    "Tratamento de erros no Python"
   ]
  },
  {
   "cell_type": "code",
   "execution_count": 17,
   "metadata": {},
   "outputs": [
    {
     "name": "stdout",
     "output_type": "stream",
     "text": [
      "Ocorreu um erro de conversão! Somente números! ou\n",
      "Fim do programa!\n"
     ]
    }
   ],
   "source": [
    "# Exemplo de erro de execução de código\n",
    "try:\n",
    "    valor = int(input(\"Digite um valor: \"))\n",
    "    print(\"O valor resultante será: \", 1/valor)\n",
    "    lista = [1,2,3]\n",
    "    print(lista[5])\n",
    "except (ValueError,ZeroDivisionError) as x:\n",
    "    if (type(x)==ValueError):\n",
    "        print(\"Ocorreu um erro de conversão! Somente números! ou\")\n",
    "    else:\n",
    "        print(\"Ocorreu um erro de divisão por zero!\")\n",
    "#except ZeroDivisionError:\n",
    "#   print(\"Ocorreu um erro de divisão por zero!\")\n",
    "except Exception as e:\n",
    "    print(\"Outro erro ocorreu!\", e)\n",
    "print(\"Fim do programa!\")\n"
   ]
  }
 ],
 "metadata": {
  "kernelspec": {
   "display_name": ".venv",
   "language": "python",
   "name": "python3"
  },
  "language_info": {
   "codemirror_mode": {
    "name": "ipython",
    "version": 3
   },
   "file_extension": ".py",
   "mimetype": "text/x-python",
   "name": "python",
   "nbconvert_exporter": "python",
   "pygments_lexer": "ipython3",
   "version": "3.13.2"
  }
 },
 "nbformat": 4,
 "nbformat_minor": 2
}
